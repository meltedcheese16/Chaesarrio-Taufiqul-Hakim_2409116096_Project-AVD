{
  "nbformat": 4,
  "nbformat_minor": 0,
  "metadata": {
    "colab": {
      "provenance": []
    },
    "kernelspec": {
      "name": "python3",
      "display_name": "Python 3"
    },
    "language_info": {
      "name": "python"
    }
  },
  "cells": [
    {
      "cell_type": "markdown",
      "source": [
        "#Study Understanding"
      ],
      "metadata": {
        "id": "eOtcwBWf5ncd"
      }
    },
    {
      "cell_type": "markdown",
      "source": [
        "##Study Objective"
      ],
      "metadata": {
        "id": "a0LNejXS51A7"
      }
    },
    {
      "cell_type": "markdown",
      "source": [
        "Proyek ini bertujuan untuk memahami bagaimana penggunaan media sosial mempengaruhi kesehatan mental, termasuk tingkat stres, kecemasan, dan depresi. Analisis ini akan mengeksplorasi hubungan antara durasi penggunaan media sosial, jenis platform yang digunakan, serta dampaknya terhadap kondisi psikologis individu."
      ],
      "metadata": {
        "id": "ZP6A8fNm8MdL"
      }
    },
    {
      "cell_type": "markdown",
      "source": [
        "## Assess Situation"
      ],
      "metadata": {
        "id": "F_cfjlHH8O3S"
      }
    },
    {
      "cell_type": "markdown",
      "source": [
        "Media sosial telah menjadi bagian besar dari kehidupan modern, tetapi dampaknya terhadap kesehatan mental masih menjadi perdebatan. Beberapa penelitian menunjukkan bahwa penggunaan media sosial yang berlebihan dapat meningkatkan risiko gangguan mental, sementara yang lain menemukan bahwa platform ini juga dapat memberikan dukungan sosial.  \n",
        "\n",
        "Dataset yang digunakan adalah **Social Media and Mental Health**, yang berisi data mengenai kebiasaan penggunaan media sosial serta kondisi kesehatan mental responden. Analisis akan fokus pada bagaimana frekuensi penggunaan, jenis interaksi, dan faktor lainnya berhubungan dengan kesehatan mental.  "
      ],
      "metadata": {
        "id": "LgG2wB_39J4B"
      }
    },
    {
      "cell_type": "markdown",
      "source": [
        "## Data Mining Goals  "
      ],
      "metadata": {
        "id": "b4YaFY-59eCZ"
      }
    },
    {
      "cell_type": "markdown",
      "source": [
        "- Mengidentifikasi pola hubungan antara intensitas penggunaan media sosial dan tingkat kesehatan mental.  \n",
        "- Menemukan segmentasi pengguna berdasarkan durasi dan cara mereka menggunakan media sosial.  \n",
        "- Mengeksplorasi faktor-faktor yang memperburuk atau memperbaiki dampak media sosial terhadap kesehatan mental.  \n",
        "- Menentukan apakah ada hubungan antara jenis aktivitas di media sosial (scrolling pasif, interaksi aktif, dll.) dengan kesehatan mental."
      ],
      "metadata": {
        "id": "wMVzPlDk_Llr"
      }
    },
    {
      "cell_type": "markdown",
      "source": [
        "## Project Plan"
      ],
      "metadata": {
        "id": "oBQTrLm1_htr"
      }
    },
    {
      "cell_type": "markdown",
      "source": [
        "### Data Understanding  \n",
        "- Mengeksplorasi dataset **Social Media and Mental Health** untuk memahami struktur data dan variabel yang tersedia.  \n",
        "- Menganalisis distribusi data, tipe data, serta mengidentifikasi potensi permasalahan seperti missing values atau outlier.  \n",
        "- Menentukan variabel utama yang akan dianalisis, seperti durasi penggunaan media sosial, tingkat interaksi, dan dampaknya terhadap kesehatan mental.  \n",
        "\n",
        "### Data Preparation  \n",
        "- Membersihkan data, menangani nilai yang hilang, serta melakukan transformasi atau encoding yang diperlukan.  \n",
        "- Mengelompokkan data untuk keperluan analisis lebih lanjut, seperti segmentasi pengguna berdasarkan pola penggunaan media sosial.  \n",
        "\n",
        "### Visualisasi  \n",
        "- Membuat visualisasi untuk memahami pola hubungan antara variabel yang dianalisis.  \n",
        "- Menggunakan grafik, heatmap, dan diagram hubungan untuk menampilkan korelasi antara durasi penggunaan media sosial dengan tingkat stres, kecemasan, dan depresi.  \n",
        "\n",
        "### Dashboard  \n",
        "- Membangun dashboard interaktif untuk menyajikan hasil utama dari analisis.  \n",
        "- Dashboard akan menampilkan insight utama terkait dampak media sosial terhadap kesehatan mental dalam bentuk grafik dan metrik yang mudah dipahami.  \n",
        "\n",
        "### Insight & Action  \n",
        "- Menarik kesimpulan dari hasil analisis mengenai bagaimana media sosial mempengaruhi kesehatan mental.  \n",
        "- Memberikan rekomendasi berbasis data, seperti pola penggunaan media sosial yang lebih sehat atau strategi untuk mengurangi dampak negatif dari media sosial terhadap kesejahteraan mental."
      ],
      "metadata": {
        "id": "LWCFp-u3_85w"
      }
    }
  ]
}
